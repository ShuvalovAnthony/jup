{
 "cells": [
  {
   "attachments": {},
   "cell_type": "markdown",
   "metadata": {},
   "source": [
    "#### Python"
   ]
  },
  {
   "attachments": {},
   "cell_type": "markdown",
   "metadata": {},
   "source": [
    "Функция *print()* необходима для вывода информации на экран.  \n",
    "Подробнее о функциях мы будем говорить ближе к концу курса."
   ]
  },
  {
   "attachments": {},
   "cell_type": "markdown",
   "metadata": {},
   "source": [
    "#### Переменные\n",
    "Переменные - ссылки на объекты (!).  \n",
    "В отличии от других ЯП это не \"коробочки\"  \n",
    "с данными, а ссылки на эти \"коробочки\".  \n",
    "Подробнее особенности такого устройства  \n",
    "мы разберем позже в этом курсе."
   ]
  },
  {
   "cell_type": "code",
   "execution_count": null,
   "metadata": {},
   "outputs": [],
   "source": [
    "name = \"Anton\" # переменная типа str\n",
    "age = 30 # переменная типа int\n",
    "print(name) # вывод значения переменной\n",
    "print(age - 3) # вывод выражения содержащего переменную"
   ]
  },
  {
   "attachments": {},
   "cell_type": "markdown",
   "metadata": {},
   "source": [
    "#### Типы данных, числа ( int, float )"
   ]
  },
  {
   "cell_type": "code",
   "execution_count": null,
   "metadata": {},
   "outputs": [],
   "source": [
    "print(2 + 123) # сложение"
   ]
  },
  {
   "cell_type": "code",
   "execution_count": null,
   "metadata": {},
   "outputs": [],
   "source": [
    "print(2 - 3) # вычитание"
   ]
  },
  {
   "cell_type": "code",
   "execution_count": null,
   "metadata": {},
   "outputs": [],
   "source": [
    "print(2*3) # умножение"
   ]
  },
  {
   "cell_type": "code",
   "execution_count": null,
   "metadata": {},
   "outputs": [],
   "source": [
    "print(2/3) # деление"
   ]
  },
  {
   "cell_type": "code",
   "execution_count": null,
   "metadata": {},
   "outputs": [],
   "source": [
    "print(2//3) # целочисленное деление\n",
    "print(22//10)\n",
    "print(9//10)\n",
    "print(-9//10)"
   ]
  },
  {
   "cell_type": "code",
   "execution_count": null,
   "metadata": {},
   "outputs": [],
   "source": [
    "print(2%3) # остаток от деления\n",
    "print(22%10)\n",
    "print(9%10)\n",
    "print(-9%10)"
   ]
  },
  {
   "cell_type": "code",
   "execution_count": null,
   "metadata": {},
   "outputs": [],
   "source": [
    "\n",
    "print(2**3) # возведение в степень\n",
    "print(16**0.5)\n",
    "print(int(16**0.5))"
   ]
  },
  {
   "cell_type": "code",
   "execution_count": null,
   "metadata": {},
   "outputs": [],
   "source": [
    "print(10.5 - 8.3)\n",
    "print(0.15 + 0.15)\n",
    "print(0.1 + 0.2)"
   ]
  },
  {
   "attachments": {},
   "cell_type": "markdown",
   "metadata": {},
   "source": [
    "Всегда стараемся работать с *int* !"
   ]
  },
  {
   "attachments": {},
   "cell_type": "markdown",
   "metadata": {},
   "source": [
    "Для перевода чисел в двоичную, 8ричную и 16тиричную системы  \n",
    "счисления есть встроенные функции:  \n",
    "bin() oct() hex()"
   ]
  },
  {
   "cell_type": "code",
   "execution_count": null,
   "metadata": {},
   "outputs": [],
   "source": [
    "num = 100\n",
    "print(bin(num))\n",
    "print(oct(num))\n",
    "print(hex(num))"
   ]
  },
  {
   "attachments": {},
   "cell_type": "markdown",
   "metadata": {},
   "source": [
    "#### Строки ( str )\n",
    "Строки - последовательности символов в Python.  \n",
    "Строки записываются в кавычках, одинарных  \n",
    "или довйных, главное, чтобы строка начиналась  \n",
    "и заканчивалась одними и теми же кавычками.\n",
    "\n",
    "Важное замечание - числа записанные в кавычках -  \n",
    "это просто набор символов, а не математический объект"
   ]
  },
  {
   "cell_type": "code",
   "execution_count": null,
   "metadata": {},
   "outputs": [],
   "source": [
    "print(\"hello world!\")"
   ]
  },
  {
   "cell_type": "code",
   "execution_count": null,
   "metadata": {},
   "outputs": [],
   "source": [
    "# Сложение строк\n",
    "print(\"hello\" + ' world') # пробел - обычный символ и автоматически НЕ ставится"
   ]
  },
  {
   "attachments": {},
   "cell_type": "markdown",
   "metadata": {},
   "source": [
    "Для работы со строками используют методы -  \n",
    "функции, которые записываются через точку, от объекта  \n",
    "и применимы только к данному типу данных."
   ]
  },
  {
   "cell_type": "code",
   "execution_count": null,
   "metadata": {},
   "outputs": [],
   "source": [
    "phrase = 'готовимся к ЕГЭ по информатике!' # сохраним строку в перменную"
   ]
  },
  {
   "cell_type": "code",
   "execution_count": null,
   "metadata": {},
   "outputs": [],
   "source": [
    "phrase.capitalize() # строка с заглавной буквы"
   ]
  },
  {
   "cell_type": "code",
   "execution_count": null,
   "metadata": {},
   "outputs": [],
   "source": [
    "phrase.upper() # строка только из заглавных букв"
   ]
  },
  {
   "cell_type": "code",
   "execution_count": null,
   "metadata": {},
   "outputs": [],
   "source": [
    "phrase.lower() # строка только из строчных букв"
   ]
  },
  {
   "cell_type": "code",
   "execution_count": null,
   "metadata": {},
   "outputs": [],
   "source": [
    "phrase.count('о') # подсчет количества подстрок/символов\n",
    "phrase.count('ЕГЭ')"
   ]
  },
  {
   "cell_type": "code",
   "execution_count": null,
   "metadata": {},
   "outputs": [],
   "source": [
    "phrase.find('ЕГЭ') # поиск индекса подстроки\n",
    "phrase.find('qwerty')"
   ]
  },
  {
   "cell_type": "code",
   "execution_count": null,
   "metadata": {},
   "outputs": [],
   "source": [
    "phrase.index('ЕГЭ') # поиск индекса подстроки\n",
    "phrase.index('qwerty')"
   ]
  },
  {
   "cell_type": "code",
   "execution_count": null,
   "metadata": {},
   "outputs": [],
   "source": [
    "phrase.split() # создание списка по разделителю"
   ]
  },
  {
   "cell_type": "code",
   "execution_count": null,
   "metadata": {},
   "outputs": [],
   "source": [
    "phrase.split()"
   ]
  },
  {
   "cell_type": "code",
   "execution_count": null,
   "metadata": {},
   "outputs": [],
   "source": [
    "phrase.split(' ')"
   ]
  },
  {
   "cell_type": "code",
   "execution_count": null,
   "metadata": {},
   "outputs": [],
   "source": [
    "phrase.replace('о', '___', 1) # замена подстроки"
   ]
  },
  {
   "cell_type": "code",
   "execution_count": null,
   "metadata": {},
   "outputs": [],
   "source": [
    "phrase.replace('о', '___', 2) # замена подстроки"
   ]
  },
  {
   "cell_type": "code",
   "execution_count": null,
   "metadata": {},
   "outputs": [],
   "source": [
    "phrase.replace('о', '___') # замена подстроки"
   ]
  },
  {
   "attachments": {},
   "cell_type": "markdown",
   "metadata": {},
   "source": [
    "Стоит задача - заменить все нули на единицы  \n",
    "и все единицы на нули"
   ]
  },
  {
   "cell_type": "code",
   "execution_count": null,
   "metadata": {},
   "outputs": [],
   "source": [
    "# способ 1\n",
    "binary_num = bin(100)[2:] # [2:] - это срез, срезы мы разберем немного позднее\n",
    "print(binary_num) # начальное число\n",
    "binary_num = binary_num.replace('0', '2')\n",
    "print(binary_num)\n",
    "binary_num = binary_num.replace('1', '0')\n",
    "print(binary_num)\n",
    "binary_num = binary_num.replace('2', '1')\n",
    "print(binary_num) # конечное число"
   ]
  },
  {
   "cell_type": "code",
   "execution_count": null,
   "metadata": {},
   "outputs": [],
   "source": [
    "# способ 2\n",
    "binary_num = bin(100)[2:]\n",
    "print(binary_num)\n",
    "print(binary_num.translate(str.maketrans('10', '01')))"
   ]
  },
  {
   "attachments": {},
   "cell_type": "markdown",
   "metadata": {},
   "source": [
    "В следующем примере используются циклы, которые мы разберем немного позже.  \n",
    "Пока что не надо вникать в то, как они работают."
   ]
  },
  {
   "cell_type": "code",
   "execution_count": null,
   "metadata": {},
   "outputs": [],
   "source": [
    "for i in range(20):\n",
    "    num = bin(i)[2:]\n",
    "    print(num)"
   ]
  },
  {
   "cell_type": "code",
   "execution_count": null,
   "metadata": {},
   "outputs": [],
   "source": [
    "for i in range(20):\n",
    "    num = bin(i)[2:]\n",
    "    print(num.zfill(5)) # дополним все строки до длины 5"
   ]
  }
 ],
 "metadata": {
  "kernelspec": {
   "display_name": "Python 3",
   "language": "python",
   "name": "python3"
  },
  "language_info": {
   "codemirror_mode": {
    "name": "ipython",
    "version": 3
   },
   "file_extension": ".py",
   "mimetype": "text/x-python",
   "name": "python",
   "nbconvert_exporter": "python",
   "pygments_lexer": "ipython3",
   "version": "3.10.5"
  },
  "orig_nbformat": 4,
  "vscode": {
   "interpreter": {
    "hash": "7e1998ff7f8aa20ada591c520b972326324e5ea05489af9e422744c7c09f6dad"
   }
  }
 },
 "nbformat": 4,
 "nbformat_minor": 2
}
